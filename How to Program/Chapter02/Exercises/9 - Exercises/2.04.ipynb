{
 "cells": [
  {
   "cell_type": "code",
   "execution_count": 1,
   "id": "07c1c357",
   "metadata": {},
   "outputs": [
    {
     "data": {
      "text/plain": [
       "29.5"
      ]
     },
     "execution_count": 1,
     "metadata": {},
     "output_type": "execute_result"
    }
   ],
   "source": [
    "27.5 + 2"
   ]
  },
  {
   "cell_type": "code",
   "execution_count": 2,
   "id": "347f8678",
   "metadata": {},
   "outputs": [
    {
     "data": {
      "text/plain": [
       "25.5"
      ]
     },
     "execution_count": 2,
     "metadata": {},
     "output_type": "execute_result"
    }
   ],
   "source": [
    "27.5 - 2"
   ]
  },
  {
   "cell_type": "code",
   "execution_count": 3,
   "id": "4c81f5d2",
   "metadata": {},
   "outputs": [
    {
     "data": {
      "text/plain": [
       "55.0"
      ]
     },
     "execution_count": 3,
     "metadata": {},
     "output_type": "execute_result"
    }
   ],
   "source": [
    "27.5 * 2"
   ]
  },
  {
   "cell_type": "code",
   "execution_count": 4,
   "id": "e29a0a6e",
   "metadata": {},
   "outputs": [
    {
     "data": {
      "text/plain": [
       "13.75"
      ]
     },
     "execution_count": 4,
     "metadata": {},
     "output_type": "execute_result"
    }
   ],
   "source": [
    "27.5 / 2"
   ]
  },
  {
   "cell_type": "code",
   "execution_count": 5,
   "id": "b1fe1e72",
   "metadata": {},
   "outputs": [
    {
     "data": {
      "text/plain": [
       "13.0"
      ]
     },
     "execution_count": 5,
     "metadata": {},
     "output_type": "execute_result"
    }
   ],
   "source": [
    "27.5 // 2"
   ]
  },
  {
   "cell_type": "code",
   "execution_count": 6,
   "id": "af502162",
   "metadata": {},
   "outputs": [
    {
     "data": {
      "text/plain": [
       "756.25"
      ]
     },
     "execution_count": 6,
     "metadata": {},
     "output_type": "execute_result"
    }
   ],
   "source": [
    "27.5 ** 2"
   ]
  },
  {
   "cell_type": "code",
   "execution_count": null,
   "id": "dd35fa3f",
   "metadata": {},
   "outputs": [],
   "source": []
  }
 ],
 "metadata": {
  "kernelspec": {
   "display_name": "Python 3 (ipykernel)",
   "language": "python",
   "name": "python3"
  },
  "language_info": {
   "codemirror_mode": {
    "name": "ipython",
    "version": 3
   },
   "file_extension": ".py",
   "mimetype": "text/x-python",
   "name": "python",
   "nbconvert_exporter": "python",
   "pygments_lexer": "ipython3",
   "version": "3.10.11"
  }
 },
 "nbformat": 4,
 "nbformat_minor": 5
}
