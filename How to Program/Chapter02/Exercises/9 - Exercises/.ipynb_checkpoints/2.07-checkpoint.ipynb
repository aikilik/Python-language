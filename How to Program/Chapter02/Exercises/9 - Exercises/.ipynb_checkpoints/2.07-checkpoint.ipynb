{
 "cells": [
  {
   "cell_type": "code",
   "execution_count": 1,
   "id": "73415ec8",
   "metadata": {},
   "outputs": [
    {
     "name": "stdout",
     "output_type": "stream",
     "text": [
      "Multiple\n"
     ]
    }
   ],
   "source": [
    "# Multiples\n",
    "\n",
    "if 1024 % 4 == 0:\n",
    "    print(\"Multiple\")"
   ]
  },
  {
   "cell_type": "code",
   "execution_count": 2,
   "id": "44a69369",
   "metadata": {},
   "outputs": [
    {
     "name": "stdout",
     "output_type": "stream",
     "text": [
      "Multiple\n"
     ]
    }
   ],
   "source": [
    "if 10 % 2 == 0:\n",
    "    print(\"Multiple\")"
   ]
  },
  {
   "cell_type": "code",
   "execution_count": null,
   "id": "95cab1dc",
   "metadata": {},
   "outputs": [],
   "source": []
  }
 ],
 "metadata": {
  "kernelspec": {
   "display_name": "Python 3 (ipykernel)",
   "language": "python",
   "name": "python3"
  },
  "language_info": {
   "codemirror_mode": {
    "name": "ipython",
    "version": 3
   },
   "file_extension": ".py",
   "mimetype": "text/x-python",
   "name": "python",
   "nbconvert_exporter": "python",
   "pygments_lexer": "ipython3",
   "version": "3.10.11"
  }
 },
 "nbformat": 4,
 "nbformat_minor": 5
}
