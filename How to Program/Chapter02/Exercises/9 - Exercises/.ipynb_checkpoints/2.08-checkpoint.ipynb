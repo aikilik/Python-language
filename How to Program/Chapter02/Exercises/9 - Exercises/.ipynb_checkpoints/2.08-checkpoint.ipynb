{
 "cells": [
  {
   "cell_type": "code",
   "execution_count": 1,
   "id": "17ade186",
   "metadata": {
    "scrolled": true
   },
   "outputs": [
    {
     "name": "stdout",
     "output_type": "stream",
     "text": [
      "number\tsquare\tcube\n",
      "0 \t 0 \t 0\n",
      "1 \t 1 \t 1\n",
      "2 \t 4 \t 8\n",
      "3 \t 9 \t 27\n",
      "4 \t 16 \t 64\n",
      "5 \t 25 \t 125\n",
      "6 \t 0 \t 216\n",
      "7 \t 49 \t 343\n",
      "8 \t 64 \t 512\n",
      "9 \t 81 \t 729\n",
      "10 \t 100 \t 1000\n"
     ]
    }
   ],
   "source": [
    "# Table of Squares and Cubes\n",
    "\n",
    "print(\"number\\tsquare\\tcube\")\n",
    "print(0,\"\\t\", 0 ** 2, \"\\t\", 0 ** 3)\n",
    "print(1,\"\\t\", 1 ** 2, \"\\t\", 1 ** 3)\n",
    "print(2,\"\\t\", 2 ** 2, \"\\t\", 2 ** 3)\n",
    "print(3,\"\\t\", 3 ** 2, \"\\t\", 3 ** 3)\n",
    "print(4,\"\\t\", 4 ** 2, \"\\t\", 4 ** 3)\n",
    "print(5,\"\\t\", 5 ** 2, \"\\t\", 5 ** 3)\n",
    "print(6,\"\\t\", 0 ** 6, \"\\t\", 6 ** 3)\n",
    "print(7,\"\\t\", 7 ** 2, \"\\t\", 7 ** 3)\n",
    "print(8,\"\\t\", 8 ** 2, \"\\t\", 8 ** 3)\n",
    "print(9,\"\\t\", 9 ** 2, \"\\t\", 9 ** 3)\n",
    "print(10,\"\\t\", 10 ** 2, \"\\t\", 10 ** 3)"
   ]
  }
 ],
 "metadata": {
  "kernelspec": {
   "display_name": "Python 3 (ipykernel)",
   "language": "python",
   "name": "python3"
  },
  "language_info": {
   "codemirror_mode": {
    "name": "ipython",
    "version": 3
   },
   "file_extension": ".py",
   "mimetype": "text/x-python",
   "name": "python",
   "nbconvert_exporter": "python",
   "pygments_lexer": "ipython3",
   "version": "3.10.11"
  }
 },
 "nbformat": 4,
 "nbformat_minor": 5
}
