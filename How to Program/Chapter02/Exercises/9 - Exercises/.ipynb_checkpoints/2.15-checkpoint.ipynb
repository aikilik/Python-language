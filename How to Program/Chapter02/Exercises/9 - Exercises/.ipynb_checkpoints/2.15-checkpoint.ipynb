{
 "cells": [
  {
   "cell_type": "code",
   "execution_count": 21,
   "id": "90d9c2d6",
   "metadata": {},
   "outputs": [
    {
     "name": "stdout",
     "output_type": "stream",
     "text": [
      "Enter number 1: 100\n",
      "Enter number 2: 200\n",
      "Enter number 3: 300\n"
     ]
    }
   ],
   "source": [
    "# Sort in Ascending Order\n",
    "\n",
    "number1 = float(input(\"Enter number 1: \"))\n",
    "number2 = float(input(\"Enter number 2: \"))\n",
    "number3 = float(input(\"Enter number 3: \"))"
   ]
  },
  {
   "cell_type": "code",
   "execution_count": 22,
   "id": "82e15a6b",
   "metadata": {},
   "outputs": [
    {
     "name": "stdout",
     "output_type": "stream",
     "text": [
      "100.0 < 200.0 < 300.0\n"
     ]
    }
   ],
   "source": [
    "if (number1 > number2 and number2 > number3):\n",
    "    print(f\"{number3} < {number2} < {number1}\")\n",
    "if (number1 > number3 and number3 > number2):\n",
    "    print(f\"{number2} < {number3} < {number1}\")\n",
    "    \n",
    "if (number2 > number1 and number1 > number3):\n",
    "    print(f\"{number3} < {number1} < {number2}\")    \n",
    "if (number2 > number3 and number3 > number1):\n",
    "    print(f\"{number1} < {number3} < {number2}\")\n",
    "    \n",
    "if (number3 > number1 and number1 > number2):\n",
    "    print(f\"{number2} < {number1} < {number3}\")    \n",
    "if (number3 > number2 and number2 > number1):\n",
    "    print(f\"{number1} < {number2} < {number3}\")"
   ]
  },
  {
   "cell_type": "code",
   "execution_count": null,
   "id": "f36702c1",
   "metadata": {},
   "outputs": [],
   "source": []
  }
 ],
 "metadata": {
  "kernelspec": {
   "display_name": "Python 3 (ipykernel)",
   "language": "python",
   "name": "python3"
  },
  "language_info": {
   "codemirror_mode": {
    "name": "ipython",
    "version": 3
   },
   "file_extension": ".py",
   "mimetype": "text/x-python",
   "name": "python",
   "nbconvert_exporter": "python",
   "pygments_lexer": "ipython3",
   "version": "3.10.11"
  }
 },
 "nbformat": 4,
 "nbformat_minor": 5
}
