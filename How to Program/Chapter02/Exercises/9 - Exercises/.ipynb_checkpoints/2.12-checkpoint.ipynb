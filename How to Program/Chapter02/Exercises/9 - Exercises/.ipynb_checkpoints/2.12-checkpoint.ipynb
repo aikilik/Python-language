{
 "cells": [
  {
   "cell_type": "code",
   "execution_count": 4,
   "id": "8763bfcc",
   "metadata": {},
   "outputs": [],
   "source": [
    "# 7% Investment Return\n",
    "\n",
    "p = 1000\n",
    "r = 0.07\n",
    "n = 0\n",
    "a = 0"
   ]
  },
  {
   "cell_type": "code",
   "execution_count": 9,
   "id": "7922ab09",
   "metadata": {},
   "outputs": [
    {
     "name": "stdout",
     "output_type": "stream",
     "text": [
      "Enter years: 0\n"
     ]
    }
   ],
   "source": [
    "n = int(input(\"Enter years: \")) "
   ]
  },
  {
   "cell_type": "code",
   "execution_count": 10,
   "id": "f64c3f74",
   "metadata": {},
   "outputs": [
    {
     "data": {
      "text/plain": [
       "1000.0"
      ]
     },
     "execution_count": 10,
     "metadata": {},
     "output_type": "execute_result"
    }
   ],
   "source": [
    "a = p * (1 + r) ** n\n",
    "a"
   ]
  },
  {
   "cell_type": "code",
   "execution_count": null,
   "id": "af12018f",
   "metadata": {},
   "outputs": [],
   "source": []
  }
 ],
 "metadata": {
  "kernelspec": {
   "display_name": "Python 3 (ipykernel)",
   "language": "python",
   "name": "python3"
  },
  "language_info": {
   "codemirror_mode": {
    "name": "ipython",
    "version": 3
   },
   "file_extension": ".py",
   "mimetype": "text/x-python",
   "name": "python",
   "nbconvert_exporter": "python",
   "pygments_lexer": "ipython3",
   "version": "3.10.11"
  }
 },
 "nbformat": 4,
 "nbformat_minor": 5
}
