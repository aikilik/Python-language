{
 "cells": [
  {
   "cell_type": "code",
   "execution_count": 1,
   "id": "1180631c",
   "metadata": {},
   "outputs": [],
   "source": [
    "r = 2\n",
    "pi = 3.14159"
   ]
  },
  {
   "cell_type": "code",
   "execution_count": 2,
   "id": "402afbf2",
   "metadata": {},
   "outputs": [],
   "source": [
    "diameter = 2 * r"
   ]
  },
  {
   "cell_type": "code",
   "execution_count": 3,
   "id": "a4305e62",
   "metadata": {},
   "outputs": [
    {
     "data": {
      "text/plain": [
       "4"
      ]
     },
     "execution_count": 3,
     "metadata": {},
     "output_type": "execute_result"
    }
   ],
   "source": [
    "diameter"
   ]
  },
  {
   "cell_type": "code",
   "execution_count": 4,
   "id": "3f67b685",
   "metadata": {},
   "outputs": [],
   "source": [
    "circumference = 2 * pi"
   ]
  },
  {
   "cell_type": "code",
   "execution_count": 5,
   "id": "c85ab7a7",
   "metadata": {},
   "outputs": [
    {
     "data": {
      "text/plain": [
       "6.28318"
      ]
     },
     "execution_count": 5,
     "metadata": {},
     "output_type": "execute_result"
    }
   ],
   "source": [
    "circumference"
   ]
  },
  {
   "cell_type": "code",
   "execution_count": 6,
   "id": "e8820d19",
   "metadata": {},
   "outputs": [],
   "source": [
    "area = pi * r ** 2"
   ]
  },
  {
   "cell_type": "code",
   "execution_count": 7,
   "id": "efe59b22",
   "metadata": {},
   "outputs": [
    {
     "data": {
      "text/plain": [
       "12.56636"
      ]
     },
     "execution_count": 7,
     "metadata": {},
     "output_type": "execute_result"
    }
   ],
   "source": [
    "area"
   ]
  },
  {
   "cell_type": "code",
   "execution_count": null,
   "id": "21223ba4",
   "metadata": {},
   "outputs": [],
   "source": []
  }
 ],
 "metadata": {
  "kernelspec": {
   "display_name": "Python 3 (ipykernel)",
   "language": "python",
   "name": "python3"
  },
  "language_info": {
   "codemirror_mode": {
    "name": "ipython",
    "version": 3
   },
   "file_extension": ".py",
   "mimetype": "text/x-python",
   "name": "python",
   "nbconvert_exporter": "python",
   "pygments_lexer": "ipython3",
   "version": "3.10.11"
  }
 },
 "nbformat": 4,
 "nbformat_minor": 5
}
