{
 "cells": [
  {
   "cell_type": "code",
   "execution_count": 1,
   "id": "e623aaee",
   "metadata": {},
   "outputs": [
    {
     "name": "stdout",
     "output_type": "stream",
     "text": [
      "Enter integer 1: 1\n",
      "Enter integer 1: 2\n",
      "Enter integer 1: 3\n"
     ]
    }
   ],
   "source": [
    "number1 = int(input(\"Enter integer 1: \"))\n",
    "number2 = int(input(\"Enter integer 1: \"))\n",
    "number3 = int(input(\"Enter integer 1: \"))"
   ]
  },
  {
   "cell_type": "code",
   "execution_count": 2,
   "id": "17fba5f0",
   "metadata": {},
   "outputs": [
    {
     "data": {
      "text/plain": [
       "6"
      ]
     },
     "execution_count": 2,
     "metadata": {},
     "output_type": "execute_result"
    }
   ],
   "source": [
    "sum = number1 + number2 + number3\n",
    "sum"
   ]
  },
  {
   "cell_type": "code",
   "execution_count": 4,
   "id": "819efa25",
   "metadata": {},
   "outputs": [
    {
     "data": {
      "text/plain": [
       "2.0"
      ]
     },
     "execution_count": 4,
     "metadata": {},
     "output_type": "execute_result"
    }
   ],
   "source": [
    "average = sum / 3\n",
    "average"
   ]
  },
  {
   "cell_type": "code",
   "execution_count": 5,
   "id": "25b2a07d",
   "metadata": {},
   "outputs": [
    {
     "data": {
      "text/plain": [
       "6"
      ]
     },
     "execution_count": 5,
     "metadata": {},
     "output_type": "execute_result"
    }
   ],
   "source": [
    "product = number1 * number2 * number3\n",
    "product"
   ]
  }
 ],
 "metadata": {
  "kernelspec": {
   "display_name": "Python 3 (ipykernel)",
   "language": "python",
   "name": "python3"
  },
  "language_info": {
   "codemirror_mode": {
    "name": "ipython",
    "version": 3
   },
   "file_extension": ".py",
   "mimetype": "text/x-python",
   "name": "python",
   "nbconvert_exporter": "python",
   "pygments_lexer": "ipython3",
   "version": "3.10.11"
  }
 },
 "nbformat": 4,
 "nbformat_minor": 5
}
