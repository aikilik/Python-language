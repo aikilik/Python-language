{
 "cells": [
  {
   "cell_type": "code",
   "execution_count": 1,
   "id": "9cd6c7fd",
   "metadata": {},
   "outputs": [
    {
     "name": "stdout",
     "output_type": "stream",
     "text": [
      "Enter your age: 30\n"
     ]
    }
   ],
   "source": [
    "# Target Heart-Rate Calculator\n",
    "\n",
    "age = int(input(\"Enter your age: \"))"
   ]
  },
  {
   "cell_type": "code",
   "execution_count": 2,
   "id": "ec1c97ca",
   "metadata": {},
   "outputs": [],
   "source": [
    "maximum_heart_rate = 220 - age"
   ]
  },
  {
   "cell_type": "code",
   "execution_count": 3,
   "id": "f68366a8",
   "metadata": {},
   "outputs": [
    {
     "data": {
      "text/plain": [
       "190"
      ]
     },
     "execution_count": 3,
     "metadata": {},
     "output_type": "execute_result"
    }
   ],
   "source": [
    "maximum_heart_rate"
   ]
  },
  {
   "cell_type": "code",
   "execution_count": 4,
   "id": "d4b500ad",
   "metadata": {},
   "outputs": [],
   "source": [
    "target_heart_rate = 100 * 190 / 220"
   ]
  },
  {
   "cell_type": "code",
   "execution_count": 5,
   "id": "9f60cd30",
   "metadata": {},
   "outputs": [
    {
     "data": {
      "text/plain": [
       "86.36363636363636"
      ]
     },
     "execution_count": 5,
     "metadata": {},
     "output_type": "execute_result"
    }
   ],
   "source": [
    "target_heart_rate"
   ]
  },
  {
   "cell_type": "code",
   "execution_count": null,
   "id": "a0f35569",
   "metadata": {},
   "outputs": [],
   "source": []
  }
 ],
 "metadata": {
  "kernelspec": {
   "display_name": "Python 3 (ipykernel)",
   "language": "python",
   "name": "python3"
  },
  "language_info": {
   "codemirror_mode": {
    "name": "ipython",
    "version": 3
   },
   "file_extension": ".py",
   "mimetype": "text/x-python",
   "name": "python",
   "nbconvert_exporter": "python",
   "pygments_lexer": "ipython3",
   "version": "3.10.11"
  }
 },
 "nbformat": 4,
 "nbformat_minor": 5
}
