{
 "cells": [
  {
   "cell_type": "code",
   "execution_count": 1,
   "id": "e0bc0a15",
   "metadata": {},
   "outputs": [
    {
     "name": "stdout",
     "output_type": "stream",
     "text": [
      "Enter an integer rating between 1 and 105\n"
     ]
    }
   ],
   "source": [
    "rating = input(\"Enter an integer rating between 1 and 10\")"
   ]
  },
  {
   "cell_type": "code",
   "execution_count": 2,
   "id": "c69213c2",
   "metadata": {},
   "outputs": [
    {
     "data": {
      "text/plain": [
       "str"
      ]
     },
     "execution_count": 2,
     "metadata": {},
     "output_type": "execute_result"
    }
   ],
   "source": [
    "type(rating)"
   ]
  },
  {
   "cell_type": "markdown",
   "id": "d19207a2",
   "metadata": {},
   "source": [
    "Needed conversion (int() in this case). So the correct is:"
   ]
  },
  {
   "cell_type": "code",
   "execution_count": 3,
   "id": "e35a2ea0",
   "metadata": {},
   "outputs": [
    {
     "name": "stdout",
     "output_type": "stream",
     "text": [
      "Enter an integer rating between 1 and 10: 5\n"
     ]
    }
   ],
   "source": [
    "rating = int(input(\"Enter an integer rating between 1 and 10: \"))"
   ]
  },
  {
   "cell_type": "code",
   "execution_count": 4,
   "id": "7af8523e",
   "metadata": {},
   "outputs": [
    {
     "data": {
      "text/plain": [
       "int"
      ]
     },
     "execution_count": 4,
     "metadata": {},
     "output_type": "execute_result"
    }
   ],
   "source": [
    "type(rating)"
   ]
  }
 ],
 "metadata": {
  "kernelspec": {
   "display_name": "Python 3 (ipykernel)",
   "language": "python",
   "name": "python3"
  },
  "language_info": {
   "codemirror_mode": {
    "name": "ipython",
    "version": 3
   },
   "file_extension": ".py",
   "mimetype": "text/x-python",
   "name": "python",
   "nbconvert_exporter": "python",
   "pygments_lexer": "ipython3",
   "version": "3.10.11"
  }
 },
 "nbformat": 4,
 "nbformat_minor": 5
}
