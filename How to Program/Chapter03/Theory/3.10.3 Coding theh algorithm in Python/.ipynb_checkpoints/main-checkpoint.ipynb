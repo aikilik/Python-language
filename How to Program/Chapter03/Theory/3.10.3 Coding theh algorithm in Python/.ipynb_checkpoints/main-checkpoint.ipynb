{
 "cells": [
  {
   "cell_type": "code",
   "execution_count": 1,
   "id": "4616d198-5174-4254-920d-1694ea2b14ef",
   "metadata": {
    "tags": []
   },
   "outputs": [],
   "source": [
    "\"\"\"Class average program with sequence-controlled repetition.\"\"\"\n",
    "\n",
    "# initialization phase\n",
    "total = 0 # sum of grades\n",
    "grade_counter = 0\n",
    "grades = [98,76,71,87,83,90,57,79,82,94] # list of 10 grades"
   ]
  },
  {
   "cell_type": "code",
   "execution_count": 2,
   "id": "92d6c167-fede-4220-9f80-10bccffd40a2",
   "metadata": {
    "tags": []
   },
   "outputs": [],
   "source": [
    "# processing phase\n",
    "for grade in grades:\n",
    "    total += grade # add current grade to the running total\n",
    "    grade_counter += 1 # indicate that one more grade was processed"
   ]
  },
  {
   "cell_type": "code",
   "execution_count": 4,
   "id": "1738984b-e329-44e8-bb3e-7810de70104e",
   "metadata": {
    "tags": []
   },
   "outputs": [
    {
     "name": "stdout",
     "output_type": "stream",
     "text": [
      "Class average is 81.7\n"
     ]
    }
   ],
   "source": [
    "# termination phase\n",
    "average = total / grade_counter\n",
    "print(f'Class average is {average}')"
   ]
  }
 ],
 "metadata": {
  "kernelspec": {
   "display_name": "Python 3 (ipykernel)",
   "language": "python",
   "name": "python3"
  },
  "language_info": {
   "codemirror_mode": {
    "name": "ipython",
    "version": 3
   },
   "file_extension": ".py",
   "mimetype": "text/x-python",
   "name": "python",
   "nbconvert_exporter": "python",
   "pygments_lexer": "ipython3",
   "version": "3.10.11"
  }
 },
 "nbformat": 4,
 "nbformat_minor": 5
}
