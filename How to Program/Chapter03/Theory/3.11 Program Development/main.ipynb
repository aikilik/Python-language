{
 "cells": [
  {
   "cell_type": "code",
   "execution_count": 1,
   "id": "9ef65621",
   "metadata": {},
   "outputs": [],
   "source": [
    "\"\"\"Class average program with sentinel-controlled iteration\"\"\"\n",
    "\n",
    "# initialization phase\n",
    "total = 0 # sum of grades\n",
    "grade_counter = 0 # number of grades entered"
   ]
  },
  {
   "cell_type": "code",
   "execution_count": 2,
   "id": "ff299312",
   "metadata": {},
   "outputs": [
    {
     "name": "stdout",
     "output_type": "stream",
     "text": [
      "Enter grade, -1 to end: 5\n",
      "Enter grade, -1 to end: 6\n",
      "Enter grade, -1 to end: 4\n",
      "Enter grade, -1 to end: -1\n"
     ]
    }
   ],
   "source": [
    "# processing phase\n",
    "grade = int(input(\"Enter grade, -1 to end: \")) # get one grade\n",
    "\n",
    "while grade != -1:\n",
    "    total += grade\n",
    "    grade_counter += 1\n",
    "    grade = int(input(\"Enter grade, -1 to end: \"))"
   ]
  },
  {
   "cell_type": "code",
   "execution_count": 3,
   "id": "1c5a44d0",
   "metadata": {},
   "outputs": [
    {
     "name": "stdout",
     "output_type": "stream",
     "text": [
      "Class average is 5.00\n"
     ]
    }
   ],
   "source": [
    "# termination phase\n",
    "if grade_counter != 0:\n",
    "    average = total / grade_counter\n",
    "    print(f\"Class average is {average:.2f}\")\n",
    "else:\n",
    "    print(\"No grades were entered\")"
   ]
  },
  {
   "cell_type": "code",
   "execution_count": null,
   "id": "89ccc15a",
   "metadata": {},
   "outputs": [],
   "source": []
  }
 ],
 "metadata": {
  "kernelspec": {
   "display_name": "Python 3 (ipykernel)",
   "language": "python",
   "name": "python3"
  },
  "language_info": {
   "codemirror_mode": {
    "name": "ipython",
    "version": 3
   },
   "file_extension": ".py",
   "mimetype": "text/x-python",
   "name": "python",
   "nbconvert_exporter": "python",
   "pygments_lexer": "ipython3",
   "version": "3.10.11"
  }
 },
 "nbformat": 4,
 "nbformat_minor": 5
}
