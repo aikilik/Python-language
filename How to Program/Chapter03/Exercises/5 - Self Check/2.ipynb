{
 "cells": [
  {
   "cell_type": "code",
   "execution_count": 1,
   "id": "71d586bb-0ded-4f4d-b391-5bf3e63ada86",
   "metadata": {
    "tags": []
   },
   "outputs": [],
   "source": [
    "grade = 80"
   ]
  },
  {
   "cell_type": "code",
   "execution_count": 2,
   "id": "f8ead2d4-cc5b-437c-b445-b1ada6a5cdd2",
   "metadata": {
    "tags": []
   },
   "outputs": [
    {
     "ename": "SyntaxError",
     "evalue": "invalid syntax (2681033537.py, line 5)",
     "output_type": "error",
     "traceback": [
      "\u001b[1;36m  Cell \u001b[1;32mIn[2], line 5\u001b[1;36m\u001b[0m\n\u001b[1;33m    elif grade >= 80:\u001b[0m\n\u001b[1;37m    ^\u001b[0m\n\u001b[1;31mSyntaxError\u001b[0m\u001b[1;31m:\u001b[0m invalid syntax\n"
     ]
    }
   ],
   "source": [
    "if grade >= 90:\n",
    "    print(\"A\")\n",
    "else:\n",
    "    print(\"Not A or B\")\n",
    "elif grade >= 80:"
   ]
  },
  {
   "cell_type": "code",
   "execution_count": null,
   "id": "9bafc18b-525e-4f94-a47e-b9bcd707d70e",
   "metadata": {},
   "outputs": [],
   "source": []
  }
 ],
 "metadata": {
  "kernelspec": {
   "display_name": "Python 3 (ipykernel)",
   "language": "python",
   "name": "python3"
  },
  "language_info": {
   "codemirror_mode": {
    "name": "ipython",
    "version": 3
   },
   "file_extension": ".py",
   "mimetype": "text/x-python",
   "name": "python",
   "nbconvert_exporter": "python",
   "pygments_lexer": "ipython3",
   "version": "3.10.11"
  }
 },
 "nbformat": 4,
 "nbformat_minor": 5
}
