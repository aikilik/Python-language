{
 "cells": [
  {
   "cell_type": "code",
   "execution_count": 1,
   "id": "e3d7c528-6ca8-4cfd-841d-5a22b284c9f0",
   "metadata": {
    "tags": []
   },
   "outputs": [],
   "source": [
    "total  = 0"
   ]
  },
  {
   "cell_type": "code",
   "execution_count": 2,
   "id": "5035453c-0095-41d0-8734-9303a2ec63bc",
   "metadata": {
    "tags": []
   },
   "outputs": [],
   "source": [
    "for number in range(1000001):\n",
    "    total = total + number"
   ]
  },
  {
   "cell_type": "code",
   "execution_count": 3,
   "id": "12440e1e-b70e-4253-b87f-dcdeabbc4123",
   "metadata": {
    "tags": []
   },
   "outputs": [
    {
     "data": {
      "text/plain": [
       "500000500000"
      ]
     },
     "execution_count": 3,
     "metadata": {},
     "output_type": "execute_result"
    }
   ],
   "source": [
    "total"
   ]
  }
 ],
 "metadata": {
  "kernelspec": {
   "display_name": "Python 3 (ipykernel)",
   "language": "python",
   "name": "python3"
  },
  "language_info": {
   "codemirror_mode": {
    "name": "ipython",
    "version": 3
   },
   "file_extension": ".py",
   "mimetype": "text/x-python",
   "name": "python",
   "nbconvert_exporter": "python",
   "pygments_lexer": "ipython3",
   "version": "3.10.11"
  }
 },
 "nbformat": 4,
 "nbformat_minor": 5
}
