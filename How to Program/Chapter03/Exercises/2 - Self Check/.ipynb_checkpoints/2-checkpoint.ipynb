{
 "cells": [
  {
   "cell_type": "code",
   "execution_count": 1,
   "id": "6e15a832-e137-43b6-b2b9-f2b9132ab25f",
   "metadata": {
    "tags": []
   },
   "outputs": [
    {
     "name": "stdin",
     "output_type": "stream",
     "text": [
      "Enter number 1:  10\n",
      "Enter number 2:  5\n"
     ]
    }
   ],
   "source": [
    "number1 = int(input(\"Enter number 1: \"))\n",
    "number2 = int(input(\"Enter number 2: \"))"
   ]
  },
  {
   "cell_type": "code",
   "execution_count": 2,
   "id": "7f9c2aba-3b53-45d6-9464-6a5db9345f90",
   "metadata": {
    "tags": []
   },
   "outputs": [],
   "source": [
    "sum = number1 + number2"
   ]
  },
  {
   "cell_type": "code",
   "execution_count": 3,
   "id": "f50c518a-fb5d-4061-9b5e-21bd065be219",
   "metadata": {
    "tags": []
   },
   "outputs": [
    {
     "name": "stdout",
     "output_type": "stream",
     "text": [
      "The sum of 10 + 5 is 15.\n"
     ]
    }
   ],
   "source": [
    "print(f\"The sum of {number1} + {number2} is {sum}.\")"
   ]
  }
 ],
 "metadata": {
  "kernelspec": {
   "display_name": "Python 3 (ipykernel)",
   "language": "python",
   "name": "python3"
  },
  "language_info": {
   "codemirror_mode": {
    "name": "ipython",
    "version": 3
   },
   "file_extension": ".py",
   "mimetype": "text/x-python",
   "name": "python",
   "nbconvert_exporter": "python",
   "pygments_lexer": "ipython3",
   "version": "3.10.11"
  }
 },
 "nbformat": 4,
 "nbformat_minor": 5
}
