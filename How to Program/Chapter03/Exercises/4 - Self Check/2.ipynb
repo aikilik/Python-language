{
 "cells": [
  {
   "cell_type": "code",
   "execution_count": 1,
   "id": "052a7117-0641-4d67-b732-8a67e79f9bf2",
   "metadata": {
    "tags": []
   },
   "outputs": [
    {
     "name": "stdin",
     "output_type": "stream",
     "text": [
      "Enter a grade:  55\n"
     ]
    }
   ],
   "source": [
    "grade = int(input(\"Enter a grade: \"))"
   ]
  },
  {
   "cell_type": "code",
   "execution_count": 3,
   "id": "5bf3cd4d-868e-480a-a38f-b695de091c50",
   "metadata": {
    "tags": []
   },
   "outputs": [],
   "source": [
    "if grade >= 60:\n",
    "    print(\"Passed\")"
   ]
  }
 ],
 "metadata": {
  "kernelspec": {
   "display_name": "Python 3 (ipykernel)",
   "language": "python",
   "name": "python3"
  },
  "language_info": {
   "codemirror_mode": {
    "name": "ipython",
    "version": 3
   },
   "file_extension": ".py",
   "mimetype": "text/x-python",
   "name": "python",
   "nbconvert_exporter": "python",
   "pygments_lexer": "ipython3",
   "version": "3.10.11"
  }
 },
 "nbformat": 4,
 "nbformat_minor": 5
}
