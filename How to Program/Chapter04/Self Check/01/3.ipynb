{
 "cells": [
  {
   "cell_type": "code",
   "execution_count": 1,
   "id": "55a8649e-e2ab-4368-a938-52d3d6346c55",
   "metadata": {
    "tags": []
   },
   "outputs": [],
   "source": [
    "def square_root(number):\n",
    "    return number ** 0.5"
   ]
  },
  {
   "cell_type": "code",
   "execution_count": 2,
   "id": "1efdd4fa-bf32-4983-8861-db3174b9dbce",
   "metadata": {
    "tags": []
   },
   "outputs": [
    {
     "data": {
      "text/plain": [
       "2.5"
      ]
     },
     "execution_count": 2,
     "metadata": {},
     "output_type": "execute_result"
    }
   ],
   "source": [
    "square_root(6.25)"
   ]
  }
 ],
 "metadata": {
  "kernelspec": {
   "display_name": "Python 3 (ipykernel)",
   "language": "python",
   "name": "python3"
  },
  "language_info": {
   "codemirror_mode": {
    "name": "ipython",
    "version": 3
   },
   "file_extension": ".py",
   "mimetype": "text/x-python",
   "name": "python",
   "nbconvert_exporter": "python",
   "pygments_lexer": "ipython3",
   "version": "3.10.11"
  }
 },
 "nbformat": 4,
 "nbformat_minor": 5
}
